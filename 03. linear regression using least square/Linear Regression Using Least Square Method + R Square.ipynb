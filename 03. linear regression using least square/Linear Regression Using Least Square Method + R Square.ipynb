{
 "cells": [
  {
   "cell_type": "markdown",
   "metadata": {},
   "source": [
    "# Simple Linear Regression"
   ]
  },
  {
   "cell_type": "code",
   "execution_count": 1,
   "metadata": {},
   "outputs": [],
   "source": [
    "import numpy as np \n",
    "import matplotlib.pyplot as plt \n",
    "%matplotlib inline\n",
    "\n",
    "#This function will be used to find the value of y intercept and slope\n",
    "def coef_estimation(x, y): \n",
    "    # number of observations/points\n",
    "    n = np.size(x) \n",
    "  \n",
    "    # Find mean of x and y\n",
    "    x_mean = np.mean(x)\n",
    "    y_mean = np.mean(y) \n",
    "  \n",
    "    # Use sum of square to find out the intercept and slope\n",
    "    \n",
    "    SS_xy = np.sum(y*x) - (n * y_mean * x_mean)\n",
    "    SS_xx = np.sum(x*x) - (n * x_mean * x_mean)\n",
    "  \n",
    "    # calculating regression coefficients \n",
    "    slope = SS_xy / SS_xx \n",
    "    y_intercept = y_mean - slope*x_mean\n",
    "  \n",
    "    return(y_intercept, slope) "
   ]
  },
  {
   "cell_type": "code",
   "execution_count": 2,
   "metadata": {},
   "outputs": [],
   "source": [
    "def regression_line_plot(x, y, b): \n",
    "    # plotting the actual points as scatter plot \n",
    "    plt.scatter(x, y, color = \"b\") \n",
    "  \n",
    "    # calculating predicted response from y = mx + c\n",
    "    y_pred = b[1]*x + b[0]\n",
    "  \n",
    "    # plotting the regression line \n",
    "    plt.plot(x, y_pred, color = \"g\") \n",
    "  \n",
    "    # adding labels to the Axes\n",
    "    plt.xlabel('X-Axis') \n",
    "    plt.ylabel('Y-Axis') \n",
    "  \n",
    "    # function to show plot \n",
    "    plt.show() "
   ]
  },
  {
   "cell_type": "code",
   "execution_count": 10,
   "metadata": {},
   "outputs": [
    {
     "name": "stdout",
     "output_type": "stream",
     "text": [
      "Estimated coefficients:\n",
      "c = 2.4 \n",
      "m = 0.4\n"
     ]
    },
    {
     "data": {
      "image/png": "[encoded data removed]",
      "text/plain": [
       "<Figure size 432x288 with 1 Axes>"
      ]
     },
     "metadata": {
      "needs_background": "light"
     },
     "output_type": "display_data"
    }
   ],
   "source": [
    "# observations \n",
    "x = np.array([1, 2, 3, 4, 5]) \n",
    "y = np.array([3, 4, 2, 4, 5]) \n",
    "\n",
    "# estimating coefficients \n",
    "b = coef_estimation(x, y) \n",
    "print(\"Estimated coefficients:\\nc = {} \\nm = {}\".format(b[0], b[1])) \n",
    "# plotting regression line \n",
    "regression_line_plot(x, y, b)"
   ]
  },
  {
   "cell_type": "markdown",
   "metadata": {},
   "source": [
    "# Calculation of R-Square (R2)"
   ]
  },
  {
   "cell_type": "code",
   "execution_count": 11,
   "metadata": {},
   "outputs": [
    {
     "name": "stdout",
     "output_type": "stream",
     "text": [
      "R-Square:  0.3076923076923078\n"
     ]
    }
   ],
   "source": [
    "from sklearn.metrics import r2_score\n",
    "\n",
    "x = np.array([1, 2, 3, 4, 5]) \n",
    "y = np.array([3, 4, 2, 4, 5]) \n",
    "\n",
    "n = np.arange(5)\n",
    "# Calculating R2\n",
    "y_pred = []\n",
    "for i in n:\n",
    "    y_p = b[1]*x[i] + b[0]\n",
    "    y_pred.append(y_p)\n",
    "\n",
    "print(\"R-Square: \",r2_score(y, y_pred))"
   ]
  },
  {
   "cell_type": "code",
   "execution_count": null,
   "metadata": {},
   "outputs": [],
   "source": []
  },
  {
   "cell_type": "code",
   "execution_count": 8,
   "metadata": {},
   "outputs": [
    {
     "name": "stdout",
     "output_type": "stream",
     "text": [
      "Estimated coefficients:\n",
      "c = 1.163636363636364 \n",
      "m = 1.1636363636363636\n"
     ]
    },
    {
     "data": {
      "image/png": "[encoded data removed]",
      "text/plain": [
       "<Figure size 432x288 with 1 Axes>"
      ]
     },
     "metadata": {
      "needs_background": "light"
     },
     "output_type": "display_data"
    }
   ],
   "source": [
    "# observations \n",
    "x = np.array([0, 1, 2, 3, 4, 5, 6, 7, 8, 9]) \n",
    "y = np.array([1, 3, 2, 5, 7, 7, 8, 9, 10, 12]) \n",
    "\n",
    "# estimating coefficients \n",
    "b = coef_estimation(x, y) \n",
    "print(\"Estimated coefficients:\\nc = {} \\nm = {}\".format(b[0], b[1])) \n",
    "# plotting regression line \n",
    "regression_line_plot(x, y, b)"
   ]
  },
  {
   "cell_type": "markdown",
   "metadata": {},
   "source": [
    "Above output verifies that our result is correct even when using a different approach"
   ]
  },
  {
   "cell_type": "code",
   "execution_count": 6,
   "metadata": {},
   "outputs": [
    {
     "name": "stdout",
     "output_type": "stream",
     "text": [
      "R-Square:  0.9597000937207123\n"
     ]
    }
   ],
   "source": [
    "from sklearn.metrics import r2_score\n",
    "\n",
    "x = np.array([0, 1, 2, 3, 4, 5, 6, 7, 8, 9]) \n",
    "y = np.array([1, 3, 2, 5, 7, 7, 8, 9, 10, 12])\n",
    "\n",
    "n = np.arange(10)\n",
    "# Calculating R2\n",
    "y_pred = []\n",
    "for i in n:\n",
    "    y_p = b[1]*x[i] + b[0]\n",
    "    y_pred.append(y_p)\n",
    "\n",
    "print(\"R-Square: \",r2_score(y, y_pred))"
   ]
  }
 ],
 "metadata": {
  "kernelspec": {
   "display_name": "Python 3",
   "language": "python",
   "name": "python3"
  },
  "language_info": {
   "codemirror_mode": {
    "name": "ipython",
    "version": 3
   },
   "file_extension": ".py",
   "mimetype": "text/x-python",
   "name": "python",
   "nbconvert_exporter": "python",
   "pygments_lexer": "ipython3",
   "version": "3.7.4"
  }
 },
 "nbformat": 4,
 "nbformat_minor": 2
}
